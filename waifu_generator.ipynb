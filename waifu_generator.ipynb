{
  "nbformat": 4,
  "nbformat_minor": 0,
  "metadata": {
    "colab": {
      "private_outputs": true,
      "provenance": [],
      "include_colab_link": true
    },
    "kernelspec": {
      "name": "python3",
      "display_name": "Python 3"
    },
    "language_info": {
      "name": "python"
    },
    "accelerator": "GPU",
    "gpuClass": "standard"
  },
  "cells": [
    {
      "cell_type": "markdown",
      "metadata": {
        "id": "view-in-github",
        "colab_type": "text"
      },
      "source": [
        "<a href=\"https://colab.research.google.com/github/Eimaen/yet-another-waifu-generator/blob/main/waifu_generator.ipynb\" target=\"_parent\"><img src=\"https://colab.research.google.com/assets/colab-badge.svg\" alt=\"Open In Colab\"/></a>"
      ]
    },
    {
      "cell_type": "code",
      "execution_count": null,
      "metadata": {
        "id": "QuFz5uGi-h6G"
      },
      "outputs": [],
      "source": [
        "#@title Install libraries\n",
        "\n",
        "%pip install --quiet --upgrade cython git+https://github.com/huggingface/diffusers transformers accelerate mediapy scipy safetensors xformers triton discord-webhook opencv-python"
      ]
    },
    {
      "cell_type": "code",
      "source": [
        "#@title Install packages\n",
        "\n",
        "!apt install aria2"
      ],
      "metadata": {
        "id": "KEzZpLv3QeDo"
      },
      "execution_count": null,
      "outputs": []
    },
    {
      "cell_type": "code",
      "source": [
        "#@title Import Real-CUGAN Upscaler\n",
        "\n",
        "!git clone https://github.com/bilibili/ailab.git ./upscaler\n",
        "\n",
        "!aria2c -x 8 https://eimaen.pw/files/RealCUGAN.zip -o upscaler/Real-CUGAN/model/weights.zip\n",
        "!unzip -o upscaler/Real-CUGAN/model/weights.zip -d upscaler/Real-CUGAN/model\n",
        "!rm upscaler/Real-CUGAN/model/weights.zip\n",
        "\n",
        "import importlib.util\n",
        "upcunet_v3_spec = importlib.util.spec_from_file_location(\"RealWaifuUpScaler\",\"upscaler/Real-CUGAN/upcunet_v3.py\")\n",
        "upcunet_v3 = importlib.util.module_from_spec(upcunet_v3_spec)\n",
        "upcunet_v3_spec.loader.exec_module(upcunet_v3)"
      ],
      "metadata": {
        "id": "Q2I1Hzz2QBfU"
      },
      "execution_count": null,
      "outputs": []
    },
    {
      "cell_type": "code",
      "source": [
        "#@title Download model\n",
        "\n",
        "!rm -rf model\n",
        "!mkdir model\n",
        "!aria2c -x 8 https://eimaen.pw/files/anything-v3.zip -o model/model.zip\n",
        "!unzip -o model/model.zip -d model\n",
        "!rm model/model.zip"
      ],
      "metadata": {
        "id": "kRq1E9oWHY9a"
      },
      "execution_count": null,
      "outputs": []
    },
    {
      "cell_type": "code",
      "source": [
        "#@title Import libraries\n",
        "\n",
        "from diffusers import StableDiffusionPipeline\n",
        "import torch\n",
        "import mediapy as media\n",
        "from PIL import Image\n",
        "from io import BytesIO\n",
        "from discord_webhook import DiscordWebhook, DiscordEmbed\n",
        "import cv2"
      ],
      "metadata": {
        "id": "N-S1KiXS04Bv"
      },
      "execution_count": null,
      "outputs": []
    },
    {
      "cell_type": "code",
      "source": [
        "#@title Load the image generation pipeline (txt2img)\n",
        "\n",
        "pipe = StableDiffusionPipeline.from_pretrained(\"model\", torch_dtype=torch.float16, safety_checker=None)\n",
        "pipe = pipe.to(\"cuda\")\n",
        "pipe.enable_xformers_memory_efficient_attention()"
      ],
      "metadata": {
        "id": "QeJTDFdAAzNG"
      },
      "execution_count": null,
      "outputs": []
    },
    {
      "cell_type": "code",
      "source": [
        "#@title Generate an image { display-mode: \"form\" }\n",
        "\n",
        "#@markdown ## Prompt:\n",
        "prompt = \"konpaku youmu, :<, 1girl, standing, green skirt, green vest, shirt tucked in, hair ribbon, hairband, arms behind back, collared shirt, small breasts, white hair, short hair\" #@param {type:\"string\"} \n",
        "negative_prompt = \"multiple breasts, (mutated hands and fingers:1.5), (long body:1.3), mutation, black-white, bad anatomy, liquid body, liquid tongue, disfigured, malformed, mutated, anatomical nonsense, text font ui, error, malformed hands, long neck, blurred, lowers, lowres, bad anatomy, bad proportions, bad shadow, uncoordinated body, unnatural body, fused breasts, bad breasts, huge breasts, poorly drawn breasts, extra breasts, liquid breasts, \\u200Bheav\\u200By breasts, missing breasts, huge haunch, huge thighs, huge calf, bad hands, fused hand, missing hand, disappearing arms, disappearing thigh, disappearing calf, disappearing legs, fused ears, bad ears, poorly drawn ears, extra ears, liquid ears, heavy ears, missing ears, fused animal ears, bad animal ears, poorly drawn animal ears, extra animal ears, liquid animal ears, heavy animal ears, missing animal ears, text, ui, error, missing fingers\" #@param {type:\"string\"}\n",
        "\n",
        "#@markdown ---\n",
        "#@markdown ## Image resolution:\n",
        "height = 512 #@param {type:\"slider\", min:64, max:1024, step:8}\n",
        "width = 512 #@param {type:\"slider\", min:64, max:1024, step:8}\n",
        "\n",
        "#@markdown ---\n",
        "#@markdown ## AI tweaks:\n",
        "interference_steps = 64 #@param {type:\"slider\", min:24, max:256, step:1}\n",
        "guidance_scale = 11.2 #@param {type:\"slider\", min:1, max:32, step:0.1}\n",
        "amount_to_generate = 1 #@param {type:\"slider\", min:1, max:10, step:1}\n",
        "\n",
        "print(\"Generating...\")\n",
        "images = pipe(prompt, height = height, width = width, num_inference_steps = interference_steps, guidance_scale = guidance_scale, num_images_per_prompt = amount_to_generate, negative_prompt = negative_prompt).images\n",
        "\n",
        "#@markdown ---\n",
        "#@markdown ## Upscaling:\n",
        "upscale_images = False #@param {type:\"boolean\"}\n",
        "upscaler_model = \"up2x-latest-denoise1x.pth\" #@param [\"up2x-latest-conservative.pth\", \"up2x-latest-denoise1x.pth\", \"up2x-latest-denoise2x.pth\", \"up2x-latest-denoise3x.pth\", \"up2x-latest-no-denoise.pth\"]\n",
        "\n",
        "if upscale_images:\n",
        "    print(\"Upscaling...\")\n",
        "    upscaler = upcunet_v3.RealWaifuUpScaler(2, \"upscaler/Real-CUGAN/model/\" + upscaler_model, half=True, device=\"cuda:0\")\n",
        "    images = map(lambda image: Image.fromarray(upscaler(image,tile_mode=5,cache_mode=2,alpha=1)), images)\n",
        "\n",
        "media.show_images(images)\n",
        "\n",
        "#@markdown ---\n",
        "#@markdown ## Saving data:\n",
        "save_data = False #@param {type:\"boolean\"}\n",
        "webhook_url = \"\" #@param {type:\"string\"}\n",
        "add_description = False #@param {type:\"boolean\"}\n",
        "\n",
        "if save_data:\n",
        "    for image in images:\n",
        "        webhook = DiscordWebhook(url=webhook_url)\n",
        "\n",
        "        if add_description:\n",
        "            embed = DiscordEmbed(title=\"Model Output\", description=\"**Prompt:**\\n```{}```\\n**Negative prompt:**\\n```{}```\\n**Interference steps:** `{}`\\n**Guidance scale:** `{}`\\n\\n**Width:** `{}`\\n**Height:** `{}`\".format(prompt, negative_prompt, interference_steps, guidance_scale, width, height), color=\"03b2f8\")\n",
        "            embed.set_author(name=\"Stable Diffusion\", url=\"https://eimaen.pw/files/anything-v3.zip\", icon_url=\"https://cdn.discordapp.com/attachments/893438518066556938/1082396674137268276/output.png\")\n",
        "            webhook.add_embed(embed)\n",
        "\n",
        "        byte_array = BytesIO()\n",
        "        image.save(byte_array, format=\"PNG\")\n",
        "        webhook.add_file(file=byte_array.getvalue(), filename=\"output.png\")\n",
        "\n",
        "        webhook.execute()\n"
      ],
      "metadata": {
        "id": "bG2hkmSEvByV"
      },
      "execution_count": null,
      "outputs": []
    }
  ]
}